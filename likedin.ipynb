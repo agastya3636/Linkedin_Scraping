{
 "cells": [
  {
   "cell_type": "code",
   "execution_count": null,
   "metadata": {
    "vscode": {
     "languageId": "plaintext"
    }
   },
   "outputs": [],
   "source": []
  },
  {
   "cell_type": "code",
   "execution_count": null,
   "metadata": {
    "vscode": {
     "languageId": "plaintext"
    }
   },
   "outputs": [],
   "source": [
    "# Import required libraries\n",
    "from selenium import webdriver\n",
    "from selenium.webdriver.common.by import By\n",
    "from selenium.webdriver.chrome.options import Options\n",
    "import time\n",
    "import pandas as pd\n",
    "import random\n",
    "\n",
    "# Configure Chrome options (Removed headless)\n",
    "options = Options()\n",
    "options.add_argument('--no-sandbox')\n",
    "options.add_argument('--disable-dev-shm-usage')\n",
    "\n",
    "# Initialize the webdriver (Now opens a visible Chrome window)\n",
    "driver = webdriver.Chrome(options=options)\n",
    "\n",
    "# --- LOGIN SECTION ---\n",
    "username = @gmail.com\"\n",
    "password = \":ZZkDJ3u_\"\n",
    "\n",
    "# Open LinkedIn login page\n",
    "driver.get(\"https://www.linkedin.com/login\")\n",
    "time.sleep(2)\n",
    "\n",
    "# Enter credentials and log in\n",
    "driver.find_element(By.ID, \"username\").send_keys(username)\n",
    "driver.find_element(By.ID, \"password\").send_keys(password)\n",
    "driver.find_element(By.ID, \"password\").submit()"
   ]
  },
  {
   "cell_type": "code",
   "execution_count": null,
   "metadata": {
    "vscode": {
     "languageId": "plaintext"
    }
   },
   "outputs": [],
   "source": [
    "def scroll_down_and_up(driver, max_scrolls=15, delay_range=(4, 10)):\n",
    "    last_height = driver.execute_script(\"return document.body.scrollHeight\")\n",
    "    for _ in range(15):  # Increase number of scrolls if needed\n",
    "        time.sleep(random.randint(4, 10))\n",
    "        driver.execute_script(\"window.scrollTo(0, document.body.scrollHeight);\")\n",
    "        time.sleep(random.randint(4, 10))  # Random delay to mimic human behavior\n",
    "        new_height = driver.execute_script(\"return document.body.scrollHeight\")\n",
    "        if new_height == last_height:\n",
    "            break\n",
    "        last_height = new_height\n",
    "\n",
    "    print(\"Now scrolling back up...\")\n",
    "\n",
    "    for _ in range(max_scrolls):\n",
    "        # Scroll up in small steps instead of jumping instantly\n",
    "        scroll_distance = random.randint(300, 700)\n",
    "        driver.execute_script(f\"window.scrollBy(0, -{scroll_distance});\")\n",
    "\n",
    "        # Wait for a **random amount of time** to mimic human behavior\n",
    "        time.sleep(random.uniform(*delay_range))\n",
    "\n",
    "        # Stop if we've reached the top\n",
    "        if driver.execute_script(\"window.scrollY\") == 0:\n",
    "            print(\"Reached the top of the page.\")\n",
    "            break\n",
    "\n",
    "    print(\"Scrolling complete.\")\n",
    "def scrape_linkedin_posts(profile_url):\n",
    "\n",
    "    print(\"Scrolling through the LinkedIn page...\")\n",
    "    scroll_down_and_up(driver, max_scrolls=15, delay_range=(4, 10))\n",
    "    print(\"Finished scrolling.\")\n",
    "\n",
    "    posts = driver.find_elements(By.XPATH, \"//div[contains(@class, 'occludable-update')]\")\n",
    "\n",
    "    if not posts:\n",
    "        print(\"No posts found! The class names or XPath might need updating.\")\n",
    "        return None\n",
    "\n",
    "    post_dates, post_texts, post_likes, post_comments, post_media = [], [], [], [], []\n",
    "\n",
    "    for post in posts:\n",
    "        try:\n",
    "            date_elem = post.find_element(By.XPATH, \".//span[contains(@class, 'visually-hidden')]\")\n",
    "            post_dates.append(date_elem.text.strip() if date_elem else \"N/A\")\n",
    "        except:\n",
    "            post_dates.append(\"N/A\")\n",
    "\n",
    "        try:\n",
    "            text_elem = post.find_element(By.XPATH, \".//span[contains(@class, 'break-words')]\")\n",
    "            post_texts.append(text_elem.text.strip() if text_elem else \"N/A\")\n",
    "        except:\n",
    "            post_texts.append(\"N/A\")\n",
    "\n",
    "        try:\n",
    "            likes_elem = post.find_element(By.XPATH, \".//button[contains(@aria-label, 'like')]\")\n",
    "            post_likes.append(likes_elem.text.strip() if likes_elem else \"0\")\n",
    "        except:\n",
    "            post_likes.append(\"0\")\n",
    "\n",
    "        try:\n",
    "            comments_elem = post.find_element(By.XPATH, \".//button[contains(@aria-label, 'comment')]\")\n",
    "            post_comments.append(comments_elem.text.strip() if comments_elem else \"0\")\n",
    "        except:\n",
    "            post_comments.append(\"0\")\n",
    "\n",
    "        try:\n",
    "            media_elem = post.find_element(By.XPATH, \".//img\")\n",
    "            post_media.append(media_elem.get_attribute(\"src\") if media_elem else \"N/A\")\n",
    "        except:\n",
    "            post_media.append(\"N/A\")\n",
    "\n",
    "    df = pd.DataFrame({\n",
    "        \"Post Date\": post_dates,\n",
    "        \"Post Text\": post_texts,\n",
    "        \"Likes\": post_likes,\n",
    "        \"Comments\": post_comments,\n",
    "        \"Media Link\": post_media\n",
    "    })\n",
    "\n",
    "    print(df)\n",
    "\n",
    "    excel_filename = \"linkedin_user_posts.xlsx\"\n",
    "    df.to_excel(excel_filename, index=False)\n",
    "    print(\"Scraped posts saved to\", excel_filename)\n",
    "\n",
    "    return df"
   ]
  },
  {
   "cell_type": "code",
   "execution_count": null,
   "metadata": {
    "vscode": {
     "languageId": "plaintext"
    }
   },
   "outputs": [],
   "source": [
    "while(1):\n",
    "    # Accept the LinkedIn profile URL of the target user\n",
    "    profile_url = input(\"Enter the LinkedIn profile URL (e.g., https://www.linkedin.com/in/username/): \")\n",
    "    # profile_ur='https://www.linkedin.com/in/ayushigupta1604/'\n",
    "    # Construct posts (activity) URL from profile\n",
    "    if profile_url.endswith('/'):\n",
    "        posts_url = profile_url + \"detail/recent-activity/shares/\"\n",
    "    else:\n",
    "        posts_url = profile_url + \"/detail/recent-activity/shares/\"\n",
    "    \n",
    "    print(\"Navigating to posts URL:\", posts_url)\n",
    "    driver.get(posts_url)\n",
    "    time.sleep(3)\n",
    "    scrape_linkedin_posts(profile_url)\n"
   ]
  }
 ],
 "metadata": {
  "language_info": {
   "name": "python"
  }
 },
 "nbformat": 4,
 "nbformat_minor": 2
}
